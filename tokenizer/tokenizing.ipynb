{
 "cells": [
  {
   "cell_type": "code",
   "execution_count": 1,
   "id": "b13e9e3b-af06-45cb-a841-fd7b9770aa05",
   "metadata": {},
   "outputs": [
    {
     "name": "stdout",
     "output_type": "stream",
     "text": [
      "Total number of character: 20481\n"
     ]
    }
   ],
   "source": [
    "with open(\"the_verdict.txt\", \"r\", encoding=\"utf-8\") as f:\n",
    "    raw_text = f.read()\n",
    "print(\"Total number of character:\", len(raw_text))"
   ]
  },
  {
   "cell_type": "code",
   "execution_count": 2,
   "id": "f3149261",
   "metadata": {},
   "outputs": [
    {
     "name": "stdout",
     "output_type": "stream",
     "text": [
      "['Hello,', ' ', 'world.', ' ', 'This,', ' ', 'is', ' ', 'a', ' ', 'test.']\n"
     ]
    }
   ],
   "source": [
    "import re\n",
    "text = \"Hello, world. This, is a test.\"\n",
    "result = re.split(r'(\\s)', text)\n",
    "print(result)"
   ]
  },
  {
   "cell_type": "code",
   "execution_count": 3,
   "id": "32cd3a54",
   "metadata": {},
   "outputs": [
    {
     "name": "stdout",
     "output_type": "stream",
     "text": [
      "['Hello', ',', '', ' ', 'world', '.', '', ' ', 'This', ',', '', ' ', 'is', ' ', 'a', ' ', 'test', '.', '']\n"
     ]
    }
   ],
   "source": [
    "result = re.split(r'([,.]|\\s)', text)\n",
    "print(result)"
   ]
  },
  {
   "cell_type": "code",
   "execution_count": 4,
   "id": "deb52c74",
   "metadata": {},
   "outputs": [
    {
     "name": "stdout",
     "output_type": "stream",
     "text": [
      "['Hello', ',', 'world', '.', 'This', ',', 'is', 'a', 'test', '.']\n"
     ]
    }
   ],
   "source": [
    "result = [item for item in result if item.strip()]\n",
    "print(result)"
   ]
  },
  {
   "cell_type": "code",
   "execution_count": 5,
   "id": "f8ef8166",
   "metadata": {},
   "outputs": [
    {
     "name": "stdout",
     "output_type": "stream",
     "text": [
      "['Hello', ',', 'world', '.', 'Is', 'this', '--', 'a', 'test', '?']\n"
     ]
    }
   ],
   "source": [
    "text = \"Hello, world. Is this-- a test?\"\n",
    "result = re.split(r'([,.:;?_!\"()\\']|--|\\s)', text)\n",
    "result = [item for item in result if item.strip()]\n",
    "print(result)"
   ]
  },
  {
   "cell_type": "code",
   "execution_count": 6,
   "id": "8b843b94",
   "metadata": {},
   "outputs": [
    {
     "name": "stdout",
     "output_type": "stream",
     "text": [
      "4690\n"
     ]
    }
   ],
   "source": [
    "preprocessed = re.split(r'([,.:;?_!\"()\\']|--|\\s)', raw_text)\n",
    "preprocessed = [item for item in preprocessed if item.strip()]\n",
    "print(len(preprocessed))"
   ]
  },
  {
   "cell_type": "code",
   "execution_count": 7,
   "id": "05d75802",
   "metadata": {},
   "outputs": [
    {
     "name": "stdout",
     "output_type": "stream",
     "text": [
      "['I', 'HAD', 'always', 'thought', 'Jack', 'Gisburn', 'rather', 'a', 'cheap', 'genius']\n"
     ]
    }
   ],
   "source": [
    "print(preprocessed[:10])"
   ]
  },
  {
   "cell_type": "code",
   "execution_count": 8,
   "id": "7190c959",
   "metadata": {},
   "outputs": [
    {
     "name": "stdout",
     "output_type": "stream",
     "text": [
      "1130\n"
     ]
    }
   ],
   "source": [
    "all_words = sorted(set(preprocessed))\n",
    "vocab_size = len(all_words)\n",
    "print(vocab_size)"
   ]
  },
  {
   "cell_type": "code",
   "execution_count": 9,
   "id": "e8ecae13",
   "metadata": {},
   "outputs": [
    {
     "name": "stdout",
     "output_type": "stream",
     "text": [
      "('!', 0)\n",
      "('\"', 1)\n",
      "(\"'\", 2)\n",
      "('(', 3)\n",
      "(')', 4)\n",
      "(',', 5)\n",
      "('--', 6)\n",
      "('.', 7)\n",
      "(':', 8)\n",
      "(';', 9)\n",
      "('?', 10)\n",
      "('A', 11)\n",
      "('Ah', 12)\n",
      "('Among', 13)\n",
      "('And', 14)\n",
      "('Are', 15)\n",
      "('Arrt', 16)\n",
      "('As', 17)\n",
      "('At', 18)\n",
      "('Be', 19)\n",
      "('Begin', 20)\n"
     ]
    }
   ],
   "source": [
    "vocab = {token:integer for integer,token in enumerate(all_words)}\n",
    "for i, item in enumerate(vocab.items()):\n",
    "    print(item)\n",
    "    if i >= 20:\n",
    "        break"
   ]
  },
  {
   "cell_type": "code",
   "execution_count": 10,
   "id": "05688fea",
   "metadata": {},
   "outputs": [],
   "source": [
    "class SimpleTokenizerV1:\n",
    "    def __init__(self, vocab):\n",
    "        self.str_to_int = vocab\n",
    "        self.int_to_str = {i:s for s,i in vocab.items()}\n",
    "        \n",
    "    def encode(self, text):\n",
    "        preprocessed = re.split(r'([,.?_!\"()\\']|--|\\s)', text)\n",
    "        preprocessed = [item.strip() for item in preprocessed if item.strip()]\n",
    "        ids = [self.str_to_int[s] for s in preprocessed]\n",
    "        return ids\n",
    "    \n",
    "    def decode(self, ids):\n",
    "        text = \" \".join([self.int_to_str[i] for i in ids])\n",
    "        text = re.sub(r'\\s+([,.?!\"()\\'])', r'\\1', text)\n",
    "        return text"
   ]
  },
  {
   "cell_type": "code",
   "execution_count": 11,
   "id": "2e3e110b",
   "metadata": {},
   "outputs": [
    {
     "name": "stdout",
     "output_type": "stream",
     "text": [
      "[1, 56, 2, 850, 988, 602, 533, 746, 5, 1126, 596, 5, 1, 67, 7, 38, 851, 1108, 754, 793, 7]\n"
     ]
    }
   ],
   "source": [
    "tokenizer = SimpleTokenizerV1(vocab)\n",
    "text = \"\"\"\"It's the last he painted, you know,\"\n",
    "Mrs. Gisburn said with pardonable pride.\"\"\"\n",
    "ids = tokenizer.encode(text)\n",
    "print(ids)"
   ]
  },
  {
   "cell_type": "code",
   "execution_count": 12,
   "id": "8aa74794",
   "metadata": {},
   "outputs": [
    {
     "name": "stdout",
     "output_type": "stream",
     "text": [
      "\" It' s the last he painted, you know,\" Mrs. Gisburn said with pardonable pride.\n"
     ]
    }
   ],
   "source": [
    "print(tokenizer.decode(ids))"
   ]
  },
  {
   "cell_type": "code",
   "execution_count": 13,
   "id": "ac4be392",
   "metadata": {},
   "outputs": [
    {
     "name": "stdout",
     "output_type": "stream",
     "text": [
      "1132\n"
     ]
    }
   ],
   "source": [
    "all_tokens = sorted(list(set(preprocessed)))\n",
    "all_tokens.extend([\"<|endoftext|>\", \"<|unk|>\"])\n",
    "vocab = {token:integer for integer,token in enumerate(all_tokens)}\n",
    "print(len(vocab.items()))"
   ]
  },
  {
   "cell_type": "code",
   "execution_count": 14,
   "id": "4a6fd17a",
   "metadata": {},
   "outputs": [],
   "source": [
    "class SimpleTokenizerV2:\n",
    "    def __init__(self, vocab):\n",
    "        self.str_to_int = vocab\n",
    "        self.int_to_str = { i:s for s,i in vocab.items()}\n",
    "\n",
    "    def encode(self, text):\n",
    "        preprocessed = re.split(r'([,.:;?_!\"()\\']|--|\\s)', text)\n",
    "        preprocessed = [item.strip() for item in preprocessed if item.strip()]\n",
    "        preprocessed = [item if item in self.str_to_int else \"<|unk|>\" for item in preprocessed]\n",
    "        ids = [self.str_to_int[s] for s in preprocessed]\n",
    "        return ids\n",
    "    \n",
    "    def decode(self, ids):\n",
    "        text = \" \".join([self.int_to_str[i] for i in ids])\n",
    "        text = re.sub(r'\\s+([,.:;?!\"()\\'])', r'\\1', text)\n",
    "        return text"
   ]
  },
  {
   "cell_type": "code",
   "execution_count": 15,
   "id": "5d0da851",
   "metadata": {},
   "outputs": [
    {
     "name": "stdout",
     "output_type": "stream",
     "text": [
      "Hello, do you like tea? <|endoftext|> In the sunlit terraces of the palace.\n"
     ]
    }
   ],
   "source": [
    "text1 = \"Hello, do you like tea?\"\n",
    "text2 = \"In the sunlit terraces of the palace.\"\n",
    "text = \" <|endoftext|> \".join((text1, text2))\n",
    "print(text)"
   ]
  },
  {
   "cell_type": "code",
   "execution_count": 16,
   "id": "26704251",
   "metadata": {},
   "outputs": [
    {
     "name": "stdout",
     "output_type": "stream",
     "text": [
      "[1131, 5, 355, 1126, 628, 975, 10, 1130, 55, 988, 956, 984, 722, 988, 1131, 7]\n"
     ]
    }
   ],
   "source": [
    "tokenizer = SimpleTokenizerV2(vocab)\n",
    "print(tokenizer.encode(text))"
   ]
  },
  {
   "cell_type": "code",
   "execution_count": 17,
   "id": "94597b3c",
   "metadata": {},
   "outputs": [
    {
     "name": "stdout",
     "output_type": "stream",
     "text": [
      "<|unk|>, do you like tea? <|endoftext|> In the sunlit terraces of the <|unk|>.\n"
     ]
    }
   ],
   "source": [
    "print(tokenizer.decode(tokenizer.encode(text)))"
   ]
  },
  {
   "cell_type": "code",
   "execution_count": 18,
   "id": "ce769962",
   "metadata": {},
   "outputs": [
    {
     "name": "stdout",
     "output_type": "stream",
     "text": [
      "tiktoken version: 0.9.0\n"
     ]
    }
   ],
   "source": [
    "from importlib.metadata import version\n",
    "import tiktoken\n",
    "print(\"tiktoken version:\", version(\"tiktoken\"))"
   ]
  },
  {
   "cell_type": "code",
   "execution_count": 19,
   "id": "4743c755",
   "metadata": {},
   "outputs": [],
   "source": [
    "tokenizer = tiktoken.get_encoding(\"gpt2\")"
   ]
  },
  {
   "cell_type": "code",
   "execution_count": 20,
   "id": "b99881d6",
   "metadata": {},
   "outputs": [
    {
     "name": "stdout",
     "output_type": "stream",
     "text": [
      "[15496, 11, 466, 345, 588, 8887, 30, 220, 50256, 554, 262, 4252, 18250, 8812, 2114, 1659, 617, 34680, 27271, 13]\n"
     ]
    }
   ],
   "source": [
    "text = (\n",
    "\"Hello, do you like tea? <|endoftext|> In the sunlit terraces\"\n",
    "\"of someunknownPlace.\"\n",
    ")\n",
    "integers = tokenizer.encode(text, allowed_special={\"<|endoftext|>\"})\n",
    "print(integers)"
   ]
  },
  {
   "cell_type": "code",
   "execution_count": 21,
   "id": "be62ef4e",
   "metadata": {},
   "outputs": [
    {
     "name": "stdout",
     "output_type": "stream",
     "text": [
      "Hello, do you like tea? <|endoftext|> In the sunlit terracesof someunknownPlace.\n"
     ]
    }
   ],
   "source": [
    "print(tokenizer.decode(integers))"
   ]
  },
  {
   "cell_type": "code",
   "execution_count": 22,
   "id": "da46b734",
   "metadata": {},
   "outputs": [
    {
     "name": "stdout",
     "output_type": "stream",
     "text": [
      "[10206, 37686, 2086, 72, 3046, 36599, 304, 72, 3046, 13415, 356, 348, 12463, 334, 1929, 84, 611, 36599, 494, 289, 5036, 71, 69, 334, 43812]\n"
     ]
    }
   ],
   "source": [
    "unknown_word = \"AKwiiefiufhw eiufhu we whfi uwhu ifhwie hfehf uwu\"\n",
    "\n",
    "integers = tokenizer.encode(unknown_word)\n",
    "print(integers)"
   ]
  },
  {
   "cell_type": "code",
   "execution_count": 23,
   "id": "f64a4a53",
   "metadata": {},
   "outputs": [
    {
     "name": "stdout",
     "output_type": "stream",
     "text": [
      "AKwiiefiufhw eiufhu we whfi uwhu ifhwie hfehf uwu\n"
     ]
    }
   ],
   "source": [
    "print(tokenizer.decode(integers))"
   ]
  },
  {
   "cell_type": "code",
   "execution_count": 24,
   "id": "f084ba8d",
   "metadata": {},
   "outputs": [
    {
     "name": "stdout",
     "output_type": "stream",
     "text": [
      "5147\n"
     ]
    }
   ],
   "source": [
    "with open(\"the_verdict.txt\", \"r\", encoding=\"utf-8\") as f:\n",
    "    raw_text = f.read()\n",
    "\n",
    "enc_text = tokenizer.encode(raw_text)\n",
    "print(len(enc_text))"
   ]
  },
  {
   "cell_type": "code",
   "execution_count": 25,
   "id": "c415475d",
   "metadata": {},
   "outputs": [],
   "source": [
    "enc_sample = enc_text[50:]"
   ]
  },
  {
   "cell_type": "code",
   "execution_count": 26,
   "id": "e4d956e1",
   "metadata": {},
   "outputs": [
    {
     "name": "stdout",
     "output_type": "stream",
     "text": [
      "[290, 4920, 2241, 287]\n",
      "     [4920, 2241, 287, 257]\n"
     ]
    }
   ],
   "source": [
    "context_size = 4\n",
    "x = enc_sample[:context_size]\n",
    "y = enc_sample[1:context_size+1]\n",
    "print(x)\n",
    "print(\"    \", y)"
   ]
  },
  {
   "cell_type": "code",
   "execution_count": 27,
   "id": "a1f1b47d",
   "metadata": {},
   "outputs": [
    {
     "name": "stdout",
     "output_type": "stream",
     "text": [
      "[290] --> 4920\n",
      "[290, 4920] --> 2241\n",
      "[290, 4920, 2241] --> 287\n",
      "[290, 4920, 2241, 287] --> 257\n"
     ]
    }
   ],
   "source": [
    "for i in range(1, context_size+1):\n",
    "    context = enc_sample[:i]\n",
    "    target = enc_sample[i]\n",
    "    print(context, \"-->\", target)"
   ]
  },
  {
   "cell_type": "code",
   "execution_count": 28,
   "id": "60687e75",
   "metadata": {},
   "outputs": [
    {
     "name": "stdout",
     "output_type": "stream",
     "text": [
      " and -->  established\n",
      " and established -->  himself\n",
      " and established himself -->  in\n",
      " and established himself in -->  a\n"
     ]
    }
   ],
   "source": [
    "for i in range(1, context_size+1):\n",
    "    context = enc_sample[:i]\n",
    "    target = enc_sample[i]\n",
    "    print(tokenizer.decode(context), \"-->\", tokenizer.decode([target]))"
   ]
  },
  {
   "cell_type": "code",
   "execution_count": 29,
   "id": "53d597ad",
   "metadata": {},
   "outputs": [
    {
     "name": "stderr",
     "output_type": "stream",
     "text": [
      "/home/yashasnadigsyn/Documents/LLM_from_scratch/.venv/lib/python3.11/site-packages/torch/_subclasses/functional_tensor.py:276: UserWarning: Failed to initialize NumPy: No module named 'numpy' (Triggered internally at /pytorch/torch/csrc/utils/tensor_numpy.cpp:81.)\n",
      "  cpu = _conversion_method_template(device=torch.device(\"cpu\"))\n"
     ]
    }
   ],
   "source": [
    "from torch.utils.data import Dataset, DataLoader\n",
    "\n",
    "class GPTDatasetV1(Dataset):\n",
    "    def __init__(self, txt, tokenizer, max_length, stride):\n",
    "        self.input_ids = []\n",
    "        self.target_ids = []\n",
    "        \n",
    "        token_ids = tokenizer.encode(txt)\n",
    "        \n",
    "        for i in range(0, len(token_ids) - max_length, stride):\n",
    "            input_chunk = token_ids[i:i + max_length]\n",
    "            target_chunk = token_ids[i+1: i+max_length+1]\n",
    "            self.input_ids.append(torch.tensor(input_chunk))\n",
    "            self.target_ids.append(torch.tensor(target_chunk))\n",
    "            \n",
    "    def __len__(self):\n",
    "        return len(self.input_ids)\n",
    "    \n",
    "    def __getitem__(self, idx):\n",
    "        return self.input_ids[idx], self.target_ids[idx]"
   ]
  },
  {
   "cell_type": "code",
   "execution_count": 30,
   "id": "5861e5fc",
   "metadata": {},
   "outputs": [],
   "source": [
    "import torch\n",
    "\n",
    "def create_dataloader_v1(txt, batch_size=4, max_length=256, stride=128, shuffle=True, drop_last=True, num_workers=0):\n",
    "    tokenizer = tiktoken.get_encoding(\"gpt2\")\n",
    "    dataset = GPTDatasetV1(txt, tokenizer=tokenizer, max_length=max_length, stride=stride)\n",
    "    dataloader = DataLoader(\n",
    "        dataset,\n",
    "        batch_size=batch_size,\n",
    "        shuffle=shuffle,\n",
    "        drop_last=drop_last,\n",
    "        num_workers=num_workers\n",
    "    )\n",
    "    \n",
    "    return dataloader"
   ]
  },
  {
   "cell_type": "code",
   "execution_count": 33,
   "id": "61072c13",
   "metadata": {},
   "outputs": [
    {
     "name": "stdout",
     "output_type": "stream",
     "text": [
      "[tensor([[  40,  367, 2885, 1464]]), tensor([[ 367, 2885, 1464, 1807]])]\n"
     ]
    }
   ],
   "source": [
    "dataloader = create_dataloader_v1(\n",
    "    raw_text, batch_size=1, max_length=4, stride=1, shuffle=False\n",
    ")\n",
    "data_iter = iter(dataloader)\n",
    "first_batch = next(data_iter)\n",
    "print(first_batch)"
   ]
  },
  {
   "cell_type": "code",
   "execution_count": 34,
   "id": "79770805",
   "metadata": {},
   "outputs": [
    {
     "name": "stdout",
     "output_type": "stream",
     "text": [
      "Inputs:  tensor([[   40,   367,  2885,  1464],\n",
      "        [  367,  2885,  1464,  1807],\n",
      "        [ 2885,  1464,  1807,  3619],\n",
      "        [ 1464,  1807,  3619,   402],\n",
      "        [ 1807,  3619,   402,   271],\n",
      "        [ 3619,   402,   271, 10899],\n",
      "        [  402,   271, 10899,  2138],\n",
      "        [  271, 10899,  2138,   257]])\n",
      "Targets:  tensor([[  367,  2885,  1464,  1807],\n",
      "        [ 2885,  1464,  1807,  3619],\n",
      "        [ 1464,  1807,  3619,   402],\n",
      "        [ 1807,  3619,   402,   271],\n",
      "        [ 3619,   402,   271, 10899],\n",
      "        [  402,   271, 10899,  2138],\n",
      "        [  271, 10899,  2138,   257],\n",
      "        [10899,  2138,   257,  7026]])\n"
     ]
    }
   ],
   "source": [
    "dataloader = create_dataloader_v1(\n",
    "    raw_text, batch_size=8, max_length=4, stride=1, shuffle=False\n",
    ")\n",
    "\n",
    "data_iter = iter(dataloader)\n",
    "inputs, targets = next(data_iter)\n",
    "print(\"Inputs: \", inputs)\n",
    "print(\"Targets: \", targets)"
   ]
  },
  {
   "cell_type": "code",
   "execution_count": 36,
   "id": "6ac94153",
   "metadata": {},
   "outputs": [],
   "source": [
    "vocab_size = 50257\n",
    "output_dim = 256\n",
    "token_embedding_layer = torch.nn.Embedding(vocab_size, output_dim)"
   ]
  },
  {
   "cell_type": "code",
   "execution_count": 37,
   "id": "cd935dfe",
   "metadata": {},
   "outputs": [
    {
     "name": "stdout",
     "output_type": "stream",
     "text": [
      "Token IDs:\n",
      " tensor([[   40,   367,  2885,  1464],\n",
      "        [ 1807,  3619,   402,   271],\n",
      "        [10899,  2138,   257,  7026],\n",
      "        [15632,   438,  2016,   257],\n",
      "        [  922,  5891,  1576,   438],\n",
      "        [  568,   340,   373,   645],\n",
      "        [ 1049,  5975,   284,   502],\n",
      "        [  284,  3285,   326,    11]])\n",
      "\n",
      "Inputs shape:\n",
      " torch.Size([8, 4])\n"
     ]
    }
   ],
   "source": [
    "max_length=4\n",
    "dataloader = create_dataloader_v1(\n",
    "    raw_text, batch_size=8, max_length=max_length, stride=max_length, shuffle=False\n",
    ")\n",
    "data_iter = iter(dataloader)\n",
    "inputs, targets = next(data_iter)\n",
    "print(\"Token IDs:\\n\", inputs)\n",
    "print(\"\\nInputs shape:\\n\", inputs.shape)"
   ]
  },
  {
   "cell_type": "code",
   "execution_count": 38,
   "id": "ab269063",
   "metadata": {},
   "outputs": [
    {
     "name": "stdout",
     "output_type": "stream",
     "text": [
      "torch.Size([8, 4, 256])\n"
     ]
    }
   ],
   "source": [
    "token_embeddings = token_embedding_layer(inputs)\n",
    "print(token_embeddings.shape)"
   ]
  },
  {
   "cell_type": "code",
   "execution_count": 39,
   "id": "6dc6219e",
   "metadata": {},
   "outputs": [
    {
     "name": "stdout",
     "output_type": "stream",
     "text": [
      "torch.Size([4, 256])\n"
     ]
    }
   ],
   "source": [
    "context_length = max_length\n",
    "pos_embedding_layer = torch.nn.Embedding(context_length, output_dim)\n",
    "pos_embeddings = pos_embedding_layer(torch.arange(context_length))\n",
    "print(pos_embeddings.shape)"
   ]
  },
  {
   "cell_type": "code",
   "execution_count": 40,
   "id": "4f6c0628",
   "metadata": {},
   "outputs": [
    {
     "name": "stdout",
     "output_type": "stream",
     "text": [
      "torch.Size([8, 4, 256])\n"
     ]
    }
   ],
   "source": [
    "input_embeddings = token_embeddings + pos_embeddings\n",
    "print(input_embeddings.shape)"
   ]
  },
  {
   "cell_type": "code",
   "execution_count": 1,
   "id": "331ddea2",
   "metadata": {},
   "outputs": [
    {
     "name": "stdout",
     "output_type": "stream",
     "text": [
      "\n",
      "############################################################\n",
      "### STEP 1: TOKENIZATION - From Text to Token IDs ###\n",
      "############################################################\n",
      "\n",
      "Original Sentence: 'Self Attention is very easy to learn!'\n",
      "Using Tokenizer: 'gpt2'\n",
      "Token IDs: [24704, 47406, 318, 845, 2562, 284, 2193, 0]\n",
      "Number of tokens (Context Length): 8\n",
      "Token IDs as a Tensor: tensor([24704, 47406,   318,   845,  2562,   284,  2193,     0])\n",
      "\n",
      "############################################################\n",
      "### STEP 2: EMBEDDING - From Token IDs to Input Vectors ###\n",
      "############################################################\n",
      "\n",
      "==================================================\n",
      "Initializing TokenAndPositionEmbedding Module\n",
      "Vocab Size: 50,257\n",
      "Embedding Dimension: 256\n",
      "Max Context Length: 8\n",
      "==================================================\n",
      "\n",
      "\n",
      "--- Generating Token & Positional Embeddings ---\n",
      "Step A: Token IDs converted to Token Embeddings\n",
      "   -> Input Token IDs shape: torch.Size([8])\n",
      "   -> Output Token Embeddings shape: torch.Size([8, 256])\n",
      "\n",
      "Step B: Created Positional Embeddings\n",
      "   -> Positional IDs (torch.arange(8)) shape: torch.Size([8])\n",
      "   -> Output Positional Embeddings shape: torch.Size([8, 256])\n",
      "\n",
      "Step C: Added Token and Positional Embeddings\n",
      "   -> Final Input Embeddings shape: torch.Size([8, 256])\n",
      "--- Embedding Generation Complete ---\n",
      "\n",
      "\n",
      "############################################################\n",
      "### STEP 3: CAUSAL ATTENTION - Processing the Embeddings ###\n",
      "############################################################\n",
      "\n",
      "==================================================\n",
      "CausalAttention Module Initialized\n",
      "Input/Output dimension (d_in/d_out): 256\n",
      "Maximum context length: 8\n",
      "\n",
      "Initialized Causal Mask (1s are positions to be masked):\n",
      "tensor([[0., 1., 1., 1., 1., 1., 1., 1.],\n",
      "        [0., 0., 1., 1., 1., 1., 1., 1.],\n",
      "        [0., 0., 0., 1., 1., 1., 1., 1.],\n",
      "        [0., 0., 0., 0., 1., 1., 1., 1.],\n",
      "        [0., 0., 0., 0., 0., 1., 1., 1.],\n",
      "        [0., 0., 0., 0., 0., 0., 1., 1.],\n",
      "        [0., 0., 0., 0., 0., 0., 0., 1.],\n",
      "        [0., 0., 0., 0., 0., 0., 0., 0.]])\n",
      "==================================================\n",
      "\n",
      "\n",
      "==================== CAUSAL ATTENTION FORWARD PASS START ====================\n",
      "Input 'x' (embeddings) received with shape: torch.Size([1, 8, 256])\n",
      "\n",
      "Step 1: Projecting embeddings to Query, Key, Value (Q, K, V)\n",
      "   -> Query 'queries' shape: torch.Size([1, 8, 256])\n",
      "   -> Key 'keys' shape: torch.Size([1, 8, 256])\n",
      "   -> Value 'values' shape: torch.Size([1, 8, 256])\n",
      "\n",
      "Step 2: Calculating Attention Scores (Q @ K^T)\n",
      "   -> Result 'attn_scores' shape: torch.Size([1, 8, 8])\n",
      "   'attn_scores' before masking (first batch item):\n",
      " tensor([[-19.0600,   5.8500,  -9.3100,   7.4600,   2.7100,   4.3300, -10.8700,\n",
      "          -5.6500],\n",
      "        [ -6.1300,  -2.5600,  -0.0400,  -1.4200,  14.2600,  -6.3600, -20.9600,\n",
      "          -2.2600],\n",
      "        [ 37.7100,   9.5500, -11.9700,   8.3700, -25.4000,  -6.4400,  15.7900,\n",
      "         -12.3400],\n",
      "        [ -0.8500,   8.6900,  21.1500,  14.7100,  -0.0400,  -6.4300,  16.4000,\n",
      "          17.2200],\n",
      "        [ 21.8400,   1.9300,  -1.5800,   4.7600, -32.3800,  -6.7600,   3.8900,\n",
      "           2.7300],\n",
      "        [  8.6100,  -7.1700,  16.2300,  -5.1500,   5.3000, -13.5700, -15.8200,\n",
      "           7.4600],\n",
      "        [ 20.6900,  27.8200, -25.0000,  24.1500,   1.6400, -18.3800,   0.7800,\n",
      "           1.6400],\n",
      "        [  6.5400,  -3.3400,  20.2200,  14.8900, -32.8700, -19.0800,   3.8500,\n",
      "          -6.8500]])\n",
      "\n",
      "Step 3: Applying Causal Mask\n",
      "   'attn_scores' after masking (first batch item):\n",
      " tensor([[-19.0600,     -inf,     -inf,     -inf,     -inf,     -inf,     -inf,\n",
      "             -inf],\n",
      "        [ -6.1300,  -2.5600,     -inf,     -inf,     -inf,     -inf,     -inf,\n",
      "             -inf],\n",
      "        [ 37.7100,   9.5500, -11.9700,     -inf,     -inf,     -inf,     -inf,\n",
      "             -inf],\n",
      "        [ -0.8500,   8.6900,  21.1500,  14.7100,     -inf,     -inf,     -inf,\n",
      "             -inf],\n",
      "        [ 21.8400,   1.9300,  -1.5800,   4.7600, -32.3800,     -inf,     -inf,\n",
      "             -inf],\n",
      "        [  8.6100,  -7.1700,  16.2300,  -5.1500,   5.3000, -13.5700,     -inf,\n",
      "             -inf],\n",
      "        [ 20.6900,  27.8200, -25.0000,  24.1500,   1.6400, -18.3800,   0.7800,\n",
      "             -inf],\n",
      "        [  6.5400,  -3.3400,  20.2200,  14.8900, -32.8700, -19.0800,   3.8500,\n",
      "          -6.8500]])\n",
      "\n",
      "Step 4: Normalizing with Softmax to get Attention Weights\n",
      "   Scaling scores by 1/sqrt(d_k), where d_k=256\n",
      "   -> Result 'attn_weights' shape: torch.Size([1, 8, 8])\n",
      "   'attn_weights' after softmax (first batch item):\n",
      " tensor([[1.0000, 0.0000, 0.0000, 0.0000, 0.0000, 0.0000, 0.0000, 0.0000],\n",
      "        [0.4445, 0.5555, 0.0000, 0.0000, 0.0000, 0.0000, 0.0000, 0.0000],\n",
      "        [0.8217, 0.1414, 0.0369, 0.0000, 0.0000, 0.0000, 0.0000, 0.0000],\n",
      "        [0.1062, 0.1928, 0.4201, 0.2809, 0.0000, 0.0000, 0.0000, 0.0000],\n",
      "        [0.5271, 0.1519, 0.1220, 0.1812, 0.0178, 0.0000, 0.0000, 0.0000],\n",
      "        [0.2237, 0.0834, 0.3603, 0.0947, 0.1819, 0.0560, 0.0000, 0.0000],\n",
      "        [0.2203, 0.3440, 0.0127, 0.2735, 0.0670, 0.0192, 0.0635, 0.0000],\n",
      "        [0.1400, 0.0755, 0.3293, 0.2360, 0.0119, 0.0282, 0.1184, 0.0606]])\n",
      "\n",
      "Step 5: Calculating Context Vector (attn_weights @ V)\n",
      "   -> Final 'context_vec' shape: torch.Size([1, 8, 256])\n",
      "====================== FORWARD PASS END =======================\n",
      "\n",
      "\n",
      "************************************************************\n",
      "DEMONSTRATION COMPLETE!\n",
      "Final output shape from attention layer: torch.Size([1, 8, 256])\n",
      "This final tensor contains context-aware representations for each token.\n",
      "It can now be passed to subsequent layers in a full Transformer model.\n",
      "************************************************************\n"
     ]
    }
   ],
   "source": [
    "import torch\n",
    "import torch.nn as nn\n",
    "import tiktoken\n",
    "\n",
    "# ==============================================================================\n",
    "# PART 1: EMBEDDING LAYER (Token + Positional)\n",
    "# This class handles converting token IDs into embeddings and adding positional info.\n",
    "# ==============================================================================\n",
    "\n",
    "class TokenAndPositionEmbedding(nn.Module):\n",
    "    \"\"\"\n",
    "    A class to handle token and positional embeddings.\n",
    "    \"\"\"\n",
    "    def __init__(self, vocab_size: int, embed_dim: int, context_length: int):\n",
    "        \"\"\"\n",
    "        Initializes the embedding layers.\n",
    "        \n",
    "        Args:\n",
    "            vocab_size (int): The total number of unique tokens in the vocabulary.\n",
    "            embed_dim (int): The dimension of the embedding vectors.\n",
    "            context_length (int): The maximum length of an input sequence.\n",
    "        \"\"\"\n",
    "        super().__init__()\n",
    "        print(\"=\"*50)\n",
    "        print(\"Initializing TokenAndPositionEmbedding Module\")\n",
    "        print(f\"Vocab Size: {vocab_size:,}\")\n",
    "        print(f\"Embedding Dimension: {embed_dim}\")\n",
    "        print(f\"Max Context Length: {context_length}\")\n",
    "        print(\"=\"*50 + \"\\n\")\n",
    "        \n",
    "        # Layer to convert token IDs to vectors\n",
    "        self.token_embedding = nn.Embedding(vocab_size, embed_dim)\n",
    "        # Layer to create positional vectors\n",
    "        self.pos_embedding = nn.Embedding(context_length, embed_dim)\n",
    "\n",
    "    def forward(self, token_ids: torch.Tensor):\n",
    "        \"\"\"\n",
    "        Forward pass to generate final embeddings.\n",
    "\n",
    "        Args:\n",
    "            token_ids (torch.Tensor): A tensor of token IDs with shape [num_tokens].\n",
    "\n",
    "        Returns:\n",
    "            torch.Tensor: The combined token and positional embeddings.\n",
    "        \"\"\"\n",
    "        num_tokens = token_ids.shape[0]\n",
    "        \n",
    "        print(\"\\n--- Generating Token & Positional Embeddings ---\")\n",
    "        \n",
    "        # 1. Create token embeddings from IDs\n",
    "        token_embeds = self.token_embedding(token_ids)\n",
    "        print(f\"Step A: Token IDs converted to Token Embeddings\")\n",
    "        print(f\"   -> Input Token IDs shape: {token_ids.shape}\")\n",
    "        print(f\"   -> Output Token Embeddings shape: {token_embeds.shape}\")\n",
    "\n",
    "        # 2. Create positional embeddings\n",
    "        #    We need a tensor [0, 1, 2, ..., num_tokens-1]\n",
    "        pos_ids = torch.arange(num_tokens, device=token_ids.device)\n",
    "        pos_embeds = self.pos_embedding(pos_ids)\n",
    "        print(f\"\\nStep B: Created Positional Embeddings\")\n",
    "        print(f\"   -> Positional IDs (torch.arange({num_tokens})) shape: {pos_ids.shape}\")\n",
    "        print(f\"   -> Output Positional Embeddings shape: {pos_embeds.shape}\")\n",
    "\n",
    "        # 3. Add token and positional embeddings\n",
    "        input_embeddings = token_embeds + pos_embeds\n",
    "        print(f\"\\nStep C: Added Token and Positional Embeddings\")\n",
    "        print(f\"   -> Final Input Embeddings shape: {input_embeddings.shape}\")\n",
    "        print(\"--- Embedding Generation Complete ---\\n\")\n",
    "        \n",
    "        return input_embeddings\n",
    "\n",
    "# ==============================================================================\n",
    "# PART 2: CAUSAL ATTENTION LAYER\n",
    "# This is the same detailed CausalAttention class from before.\n",
    "# ==============================================================================\n",
    "\n",
    "class CausalAttention(nn.Module):\n",
    "    \"\"\"\n",
    "    A Causal Self-Attention module with extensive print statements for educational purposes.\n",
    "    \"\"\"\n",
    "    def __init__(self, d_in: int, d_out: int, context_length: int, dropout: float = 0.0, qkv_bias: bool = False):\n",
    "        super().__init__()\n",
    "        self.d_out = d_out\n",
    "        self.Q = nn.Linear(d_in, d_out, bias=qkv_bias)\n",
    "        self.K = nn.Linear(d_in, d_out, bias=qkv_bias)\n",
    "        self.V = nn.Linear(d_in, d_out, bias=qkv_bias)\n",
    "        self.dropout = nn.Dropout(dropout)\n",
    "        mask = torch.triu(torch.ones(context_length, context_length), diagonal=1)\n",
    "        self.register_buffer('mask', mask)\n",
    "        \n",
    "        print(\"=\"*50)\n",
    "        print(\"CausalAttention Module Initialized\")\n",
    "        print(f\"Input/Output dimension (d_in/d_out): {d_in}\")\n",
    "        print(f\"Maximum context length: {context_length}\")\n",
    "        print(\"\\nInitialized Causal Mask (1s are positions to be masked):\")\n",
    "        # Print a smaller version if the mask is too big\n",
    "        print(self.mask if context_length <= 10 else self.mask[:10, :10])\n",
    "        print(\"=\"*50 + \"\\n\")\n",
    "\n",
    "    def forward(self, x: torch.Tensor):\n",
    "        # x.shape: [batch_size, num_tokens, d_in]\n",
    "        b, num_tokens, d_in = x.shape\n",
    "        \n",
    "        print(\"\\n\" + \"=\"*20 + \" CAUSAL ATTENTION FORWARD PASS START \" + \"=\"*20)\n",
    "        print(f\"Input 'x' (embeddings) received with shape: {x.shape}\")\n",
    "        \n",
    "        queries = self.Q(x)\n",
    "        keys = self.K(x)\n",
    "        values = self.V(x)\n",
    "        \n",
    "        print(\"\\nStep 1: Projecting embeddings to Query, Key, Value (Q, K, V)\")\n",
    "        print(f\"   -> Query 'queries' shape: {queries.shape}\")\n",
    "        print(f\"   -> Key 'keys' shape: {keys.shape}\")\n",
    "        print(f\"   -> Value 'values' shape: {values.shape}\")\n",
    "        \n",
    "        attn_scores = queries @ keys.transpose(1, 2)\n",
    "        \n",
    "        print(\"\\nStep 2: Calculating Attention Scores (Q @ K^T)\")\n",
    "        print(f\"   -> Result 'attn_scores' shape: {attn_scores.shape}\")\n",
    "        print(\"   'attn_scores' before masking (first batch item):\\n\", attn_scores[0].data.round(decimals=2))\n",
    "        \n",
    "        mask_bool = self.mask.bool()[:num_tokens, :num_tokens]\n",
    "        attn_scores.masked_fill_(mask_bool, -torch.inf)\n",
    "        \n",
    "        print(\"\\nStep 3: Applying Causal Mask\")\n",
    "        print(\"   'attn_scores' after masking (first batch item):\\n\", attn_scores[0].data.round(decimals=2))\n",
    "        \n",
    "        scaling_factor = keys.shape[-1]**0.5\n",
    "        attn_weights = torch.softmax(attn_scores / scaling_factor, dim=-1)\n",
    "        \n",
    "        print(f\"\\nStep 4: Normalizing with Softmax to get Attention Weights\")\n",
    "        print(f\"   Scaling scores by 1/sqrt(d_k), where d_k={keys.shape[-1]}\")\n",
    "        print(f\"   -> Result 'attn_weights' shape: {attn_weights.shape}\")\n",
    "        print(\"   'attn_weights' after softmax (first batch item):\\n\", attn_weights[0].data.round(decimals=4))\n",
    "        \n",
    "        attn_weights = self.dropout(attn_weights)\n",
    "        \n",
    "        context_vec = attn_weights @ values\n",
    "        \n",
    "        print(\"\\nStep 5: Calculating Context Vector (attn_weights @ V)\")\n",
    "        print(f\"   -> Final 'context_vec' shape: {context_vec.shape}\")\n",
    "        print(\"=\"*22 + \" FORWARD PASS END \" + \"=\"*23 + \"\\n\")\n",
    "        \n",
    "        return context_vec\n",
    "\n",
    "# ==============================================================================\n",
    "# PART 3: MAIN EXECUTION\n",
    "# Here we tie everything together with a simple sentence.\n",
    "# ==============================================================================\n",
    "if __name__ == \"__main__\":\n",
    "    \n",
    "    # --- Input Sentence ---\n",
    "    sentence = \"Self Attention is very easy to learn!\"\n",
    "\n",
    "    # --- Model Parameters ---\n",
    "    # Using standard 'gpt2' tokenizer properties\n",
    "    tokenizer_name = \"gpt2\"\n",
    "    vocab_size = 50257      # Vocab size for 'gpt2'\n",
    "    embed_dim = 256         # The size of each embedding vector\n",
    "    \n",
    "    # Set a seed for reproducibility\n",
    "    torch.manual_seed(42)\n",
    "\n",
    "    # ----------------------------------------------------------------------\n",
    "    # STEP 1: TOKENIZATION (Text -> Token IDs)\n",
    "    # ----------------------------------------------------------------------\n",
    "    print(\"\\n\" + \"#\"*60)\n",
    "    print(\"### STEP 1: TOKENIZATION - From Text to Token IDs ###\")\n",
    "    print(\"#\"*60 + \"\\n\")\n",
    "    \n",
    "    tokenizer = tiktoken.get_encoding(tokenizer_name)\n",
    "    token_ids = tokenizer.encode(sentence)\n",
    "    token_ids_tensor = torch.tensor(token_ids)\n",
    "    \n",
    "    context_length = len(token_ids) # The actual length of our sequence\n",
    "    \n",
    "    print(f\"Original Sentence: '{sentence}'\")\n",
    "    print(f\"Using Tokenizer: '{tokenizer_name}'\")\n",
    "    print(f\"Token IDs: {token_ids}\")\n",
    "    print(f\"Number of tokens (Context Length): {context_length}\")\n",
    "    print(f\"Token IDs as a Tensor: {token_ids_tensor}\")\n",
    "\n",
    "    # ----------------------------------------------------------------------\n",
    "    # STEP 2: EMBEDDING (Token IDs -> Rich Vectors)\n",
    "    # ----------------------------------------------------------------------\n",
    "    print(\"\\n\" + \"#\"*60)\n",
    "    print(\"### STEP 2: EMBEDDING - From Token IDs to Input Vectors ###\")\n",
    "    print(\"#\"*60 + \"\\n\")\n",
    "    \n",
    "    # Initialize the embedding module\n",
    "    embedding_layer = TokenAndPositionEmbedding(vocab_size, embed_dim, context_length)\n",
    "    \n",
    "    # Get the final input embeddings\n",
    "    input_embeddings = embedding_layer(token_ids_tensor)\n",
    "    \n",
    "    # ----------------------------------------------------------------------\n",
    "    # STEP 3: CAUSAL ATTENTION (Vectors -> Context-Aware Vectors)\n",
    "    # ----------------------------------------------------------------------\n",
    "    print(\"\\n\" + \"#\"*60)\n",
    "    print(\"### STEP 3: CAUSAL ATTENTION - Processing the Embeddings ###\")\n",
    "    print(\"#\"*60 + \"\\n\")\n",
    "    \n",
    "    # Initialize the attention module\n",
    "    # d_in and d_out are our embedding dimension\n",
    "    attention_layer = CausalAttention(d_in=embed_dim, d_out=embed_dim, context_length=context_length)\n",
    "    \n",
    "    # The attention layer expects a batch dimension, so we add one\n",
    "    # Shape changes from [num_tokens, embed_dim] to [1, num_tokens, embed_dim]\n",
    "    batched_embeddings = input_embeddings.unsqueeze(0)\n",
    "    \n",
    "    # Pass the embeddings through the attention layer\n",
    "    final_output_vectors = attention_layer(batched_embeddings)\n",
    "\n",
    "    print(\"\\n\" + \"*\"*60)\n",
    "    print(\"DEMONSTRATION COMPLETE!\")\n",
    "    print(f\"Final output shape from attention layer: {final_output_vectors.shape}\")\n",
    "    print(\"This final tensor contains context-aware representations for each token.\")\n",
    "    print(\"It can now be passed to subsequent layers in a full Transformer model.\")\n",
    "    print(\"*\"*60)"
   ]
  },
  {
   "cell_type": "code",
   "execution_count": 2,
   "id": "43bb7507",
   "metadata": {},
   "outputs": [
    {
     "name": "stdout",
     "output_type": "stream",
     "text": [
      "tensor([[[ 0.3159,  0.0983,  0.6994,  ..., -0.2357,  0.7693, -0.8433],\n",
      "         [ 0.4352,  0.4303,  0.6789,  ..., -0.5905, -0.2514, -1.2012],\n",
      "         [ 0.3454,  0.2051,  0.6712,  ..., -0.3368,  0.4614, -0.8828],\n",
      "         ...,\n",
      "         [ 0.1551,  0.4622,  0.3384,  ...,  0.0306,  0.0800,  0.1937],\n",
      "         [ 0.3662,  0.4840,  0.7555,  ...,  0.1030, -0.0181, -0.6454],\n",
      "         [ 0.4176,  0.4650,  0.3462,  ..., -0.0151,  0.0041, -0.0414]]],\n",
      "       grad_fn=<UnsafeViewBackward0>)\n"
     ]
    }
   ],
   "source": [
    "print(final_output_vectors)"
   ]
  },
  {
   "cell_type": "code",
   "execution_count": null,
   "id": "0c0c6e74",
   "metadata": {},
   "outputs": [],
   "source": []
  }
 ],
 "metadata": {
  "kernelspec": {
   "display_name": "llm-from-scratch",
   "language": "python",
   "name": "python3"
  },
  "language_info": {
   "codemirror_mode": {
    "name": "ipython",
    "version": 3
   },
   "file_extension": ".py",
   "mimetype": "text/x-python",
   "name": "python",
   "nbconvert_exporter": "python",
   "pygments_lexer": "ipython3",
   "version": "3.11.13"
  }
 },
 "nbformat": 4,
 "nbformat_minor": 5
}
